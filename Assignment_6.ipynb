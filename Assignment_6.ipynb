{
  "nbformat": 4,
  "nbformat_minor": 0,
  "metadata": {
    "colab": {
      "name": "Assignment_6_Fabiano.ipynb",
      "provenance": [],
      "include_colab_link": true
    },
    "kernelspec": {
      "name": "python2",
      "display_name": "Python 2"
    }
  },
  "cells": [
    {
      "cell_type": "markdown",
      "metadata": {
        "id": "view-in-github",
        "colab_type": "text"
      },
      "source": [
        "<a href=\"https://colab.research.google.com/github/fabianosene/hello-world/blob/master/Assignment_6.ipynb\" target=\"_parent\"><img src=\"https://colab.research.google.com/assets/colab-badge.svg\" alt=\"Open In Colab\"/></a>"
      ]
    },
    {
      "cell_type": "code",
      "metadata": {
        "id": "UfYyU2SfsA7F",
        "colab_type": "code",
        "colab": {}
      },
      "source": [
        "from scipy.stats import binom\n",
        "from scipy.stats import hypergeom\n",
        "from scipy.stats import geom\n",
        "from scipy.special import comb"
      ],
      "execution_count": 0,
      "outputs": []
    },
    {
      "cell_type": "code",
      "metadata": {
        "id": "LmpggGArsddd",
        "colab_type": "code",
        "outputId": "1e73df02-3149-4789-dc19-c48fc527e6fb",
        "colab": {
          "base_uri": "https://localhost:8080/",
          "height": 34
        }
      },
      "source": [
        "#Question 1.a\n",
        "Def=binom(n=22,p=0.01)\n",
        "Y=binom.cdf(2,n=22,p=0.01)\n",
        "Y"
      ],
      "execution_count": 0,
      "outputs": [
        {
          "output_type": "execute_result",
          "data": {
            "text/plain": [
              "0.9986643708062188"
            ]
          },
          "metadata": {
            "tags": []
          },
          "execution_count": 6
        }
      ]
    },
    {
      "cell_type": "code",
      "metadata": {
        "id": "IlKnebXAsqYJ",
        "colab_type": "code",
        "outputId": "a696f70c-355a-4c76-e75d-71d06958ec65",
        "colab": {
          "base_uri": "https://localhost:8080/",
          "height": 34
        }
      },
      "source": [
        "#Question 1.b\n",
        "b=Def.cdf(3)-Def.cdf(0)\n",
        "b1=Def.pmf(1)+Def.pmf(2)+Def.pmf(3)\n",
        "b, b1"
      ],
      "execution_count": 0,
      "outputs": [
        {
          "output_type": "execute_result",
          "data": {
            "text/plain": [
              "(0.19830608094787983, 0.1983060809478805)"
            ]
          },
          "metadata": {
            "tags": []
          },
          "execution_count": 9
        }
      ]
    },
    {
      "cell_type": "code",
      "metadata": {
        "id": "zPXajxZys-lQ",
        "colab_type": "code",
        "outputId": "3378c75c-ac7d-4adb-c60c-fc0670cfeed5",
        "colab": {
          "base_uri": "https://localhost:8080/",
          "height": 34
        }
      },
      "source": [
        "#Question 1.c\n",
        "No_def=Def.cdf(0)\n",
        "No_def"
      ],
      "execution_count": 0,
      "outputs": [
        {
          "output_type": "execute_result",
          "data": {
            "text/plain": [
              "0.8016305895390459"
            ]
          },
          "metadata": {
            "tags": []
          },
          "execution_count": 10
        }
      ]
    },
    {
      "cell_type": "code",
      "metadata": {
        "id": "I4Z88qt_toDA",
        "colab_type": "code",
        "colab": {}
      },
      "source": [
        "#---------------------------------------------------"
      ],
      "execution_count": 0,
      "outputs": []
    },
    {
      "cell_type": "code",
      "metadata": {
        "id": "zGs_PWoUtsU4",
        "colab_type": "code",
        "outputId": "9a739c46-69d9-4452-dc0d-920ad57ce47b",
        "colab": {
          "base_uri": "https://localhost:8080/",
          "height": 34
        }
      },
      "source": [
        "#Question 2.a\n",
        "\n",
        "#prob 1 out of 142\n",
        "#p=0.0070422535211268 # p=1/142 - Python calculating the expression and yielding p=0.\n",
        "\n",
        "W=geom(p=0.0070422535211268)\n",
        "W.cdf(13)\n"
      ],
      "execution_count": 0,
      "outputs": [
        {
          "output_type": "execute_result",
          "data": {
            "text/plain": [
              "0.08777916438033573"
            ]
          },
          "metadata": {
            "tags": []
          },
          "execution_count": 35
        }
      ]
    },
    {
      "cell_type": "code",
      "metadata": {
        "id": "wbRrZ_oUuEzP",
        "colab_type": "code",
        "outputId": "a97c5b1c-090f-4593-fe58-fc6d9ba86ef7",
        "colab": {
          "base_uri": "https://localhost:8080/",
          "height": 34
        }
      },
      "source": [
        "#Question 2.b\n",
        "1-W.cdf(365)"
      ],
      "execution_count": 0,
      "outputs": [
        {
          "output_type": "execute_result",
          "data": {
            "text/plain": [
              "0.07581068475579289"
            ]
          },
          "metadata": {
            "tags": []
          },
          "execution_count": 36
        }
      ]
    },
    {
      "cell_type": "code",
      "metadata": {
        "id": "jvr-tX1ouaa6",
        "colab_type": "code",
        "outputId": "1121f51b-39b7-4904-a73c-705512be2380",
        "colab": {
          "base_uri": "https://localhost:8080/",
          "height": 34
        }
      },
      "source": [
        "#Question 2.c\n",
        "W.mean()"
      ],
      "execution_count": 0,
      "outputs": [
        {
          "output_type": "execute_result",
          "data": {
            "text/plain": [
              "141.9999999999992"
            ]
          },
          "metadata": {
            "tags": []
          },
          "execution_count": 37
        }
      ]
    },
    {
      "cell_type": "code",
      "metadata": {
        "id": "rY0_hJ8Fv65J",
        "colab_type": "code",
        "colab": {}
      },
      "source": [
        "#---------------------------------------------------"
      ],
      "execution_count": 0,
      "outputs": []
    },
    {
      "cell_type": "code",
      "metadata": {
        "id": "nTWXRPtHxgFe",
        "colab_type": "code",
        "outputId": "c70b7e7c-89f1-4f71-b430-076b476e3b0d",
        "colab": {
          "base_uri": "https://localhost:8080/",
          "height": 34
        }
      },
      "source": [
        "#Question 3.a\n",
        "# No replacement, 10 HW, 150 assignments, 13 fraudulent\n",
        "\n",
        "Dist=hypergeom(M=150,n=13,N=10)\n",
        "No_fraud=Dist.cdf(0)\n",
        "No_fraud"
      ],
      "execution_count": 0,
      "outputs": [
        {
          "output_type": "execute_result",
          "data": {
            "text/plain": [
              "0.3920617916597651"
            ]
          },
          "metadata": {
            "tags": []
          },
          "execution_count": 43
        }
      ]
    },
    {
      "cell_type": "code",
      "metadata": {
        "id": "QAQ8OyBxxhHX",
        "colab_type": "code",
        "outputId": "de653dc6-9edb-442a-d285-aaee9a9fed4b",
        "colab": {
          "base_uri": "https://localhost:8080/",
          "height": 34
        }
      },
      "source": [
        "#Question 3.b\n",
        "Fraud=1-Dist.cdf(1)\n",
        "Fraud"
      ],
      "execution_count": 0,
      "outputs": [
        {
          "output_type": "execute_result",
          "data": {
            "text/plain": [
              "0.2097504511857895"
            ]
          },
          "metadata": {
            "tags": []
          },
          "execution_count": 45
        }
      ]
    },
    {
      "cell_type": "code",
      "metadata": {
        "id": "VllTAiviy-Kx",
        "colab_type": "code",
        "outputId": "b2e0961f-9654-45d8-b5f5-8216712d4c02",
        "colab": {
          "base_uri": "https://localhost:8080/",
          "height": 34
        }
      },
      "source": [
        "#Question 3.c\n",
        "Dist.mean()"
      ],
      "execution_count": 0,
      "outputs": [
        {
          "output_type": "execute_result",
          "data": {
            "text/plain": [
              "0.8666666666666667"
            ]
          },
          "metadata": {
            "tags": []
          },
          "execution_count": 46
        }
      ]
    },
    {
      "cell_type": "code",
      "metadata": {
        "id": "uv7OA56VzHC5",
        "colab_type": "code",
        "colab": {}
      },
      "source": [
        "#----------------------------------------------------"
      ],
      "execution_count": 0,
      "outputs": []
    },
    {
      "cell_type": "code",
      "metadata": {
        "id": "foaUEMuuzS4b",
        "colab_type": "code",
        "outputId": "28fbf6ca-0fbe-4106-eed4-4c00714fb811",
        "colab": {
          "base_uri": "https://localhost:8080/",
          "height": 34
        }
      },
      "source": [
        "#Question 4.a\n",
        "# No replacement, random -> Hypergeom\n",
        "Prob=hypergeom(M=52,n=4,N=2)\n",
        "Prob.pmf(2)*1840 #Expected value for 2 aces within the 1840 hands \n"
      ],
      "execution_count": 0,
      "outputs": [
        {
          "output_type": "execute_result",
          "data": {
            "text/plain": [
              "8.32579185520363"
            ]
          },
          "metadata": {
            "tags": []
          },
          "execution_count": 49
        }
      ]
    }
  ]
}